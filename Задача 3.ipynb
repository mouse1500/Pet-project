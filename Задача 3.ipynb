{
 "cells": [
  {
   "cell_type": "code",
   "execution_count": 7,
   "metadata": {},
   "outputs": [],
   "source": [
    "import pandas as pd\n",
    "import numpy as np\n",
    "import matplotlib.pyplot as plt\n",
    "import seaborn as sns\n",
    "import os\n",
    "import scipy.stats as ss\n",
    "from scipy import stats\n",
    "import plotly.express as px\n",
    "from scipy.stats import mannwhitneyu\n",
    "import scipy\n",
    "from tqdm import tqdm\n",
    "\n",
    "%matplotlib inline"
   ]
  },
  {
   "cell_type": "code",
   "execution_count": 8,
   "metadata": {},
   "outputs": [],
   "source": [
    "#  файл с информацией о принадлежности пользователя к контрольной или экспериментальной группе \n",
    "# (А – контроль, B – целевая группа) \n",
    "groups_df = pd.read_csv('/mnt/HC_Volume_18315164/home-jupyter/jupyter-i-berezin-33/Проект_2_groups.csv', sep=';')\n",
    "# файл с информацией об оплатах пользователей в дни проведения эксперимента. \n",
    "checks_df = pd.read_csv('/mnt/HC_Volume_18315164/home-jupyter/jupyter-i-berezin-33/Проект_2_checks.csv', sep=';')\n",
    "# файл с информацией о пользователях, которые зашли на платформу в дни проведения эксперимента. \n",
    "activ_studs_df = pd.read_csv('/mnt/HC_Volume_18315164/home-jupyter/jupyter-i-berezin-33/Проект_2_active_studs.csv')\n",
    "# дополнительный файл с пользователями, который вам прислали спустя 2 дня после передачи данных\n",
    "groups_add = pd.read_csv('/mnt/HC_Volume_18315164/home-jupyter/jupyter-i-berezin-33/Проект_2_group_add.csv')"
   ]
  },
  {
   "cell_type": "code",
   "execution_count": 9,
   "metadata": {},
   "outputs": [],
   "source": [
    "checks_df = checks_df.rename(columns={'student_id' : 'id'})\n",
    "activ_studs_df = activ_studs_df.rename(columns={'student_id' : 'id'})"
   ]
  },
  {
   "cell_type": "code",
   "execution_count": 20,
   "metadata": {},
   "outputs": [],
   "source": [
    "# Функция объединяющая датасеты.\n",
    "def compound_df():\n",
    "    groups_add_df = groups_add\n",
    "    df = pd.concat([groups_df, groups_add_df], ignore_index=True)\n",
    "    compouns_df = df.merge(checks_df, how='left', on='id')\n",
    "    active_student = compouns_df.merge(activ_studs_df, how='inner', on='id')\n",
    "    return active_student"
   ]
  },
  {
   "cell_type": "code",
   "execution_count": 21,
   "metadata": {},
   "outputs": [
    {
     "name": "stdout",
     "output_type": "stream",
     "text": [
      "\n",
      "    ARPAU в группе A = 47.35\n",
      "    ARPAU в группе B = 58.06\n",
      "    CR в группе A = 5.1\n",
      "    CR в группе B = 4.6\n",
      "    \n"
     ]
    }
   ],
   "source": [
    "def cr_and_arpau(active_student):\n",
    "    group_A = active_student.query('grp == \"A\"')\n",
    "    group_B = active_student.query('grp == \"B\"')\n",
    "    \n",
    "    group_a_pay = active_student.query('rev != 0 and grp == \"A\"')\n",
    "    group_b_pay = active_student.query('rev != 0 and grp == \"B\"')\n",
    "    \n",
    "    cr_grp_A = ((group_a_pay.rev.count() / group_A.id.count()).round(3))*100\n",
    "    cr_grp_B = ((group_b_pay.rev.count() / group_B.id.count()).round(3))*100\n",
    "    \n",
    "    arpau_a = (group_A.rev.sum() / group_A.id.count()).round(2)\n",
    "    arpau_b = (group_B.rev.sum() / group_B.id.count()).round(2)\n",
    "    \n",
    "    return print(f'''\n",
    "    ARPAU в группе A = {arpau_a}\n",
    "    ARPAU в группе B = {arpau_b}\n",
    "    CR в группе A = {cr_grp_A}\n",
    "    CR в группе B = {cr_grp_B}\n",
    "    ''')\n",
    "\n",
    "cr_and_arpau(active_student)"
   ]
  },
  {
   "cell_type": "code",
   "execution_count": 22,
   "metadata": {},
   "outputs": [],
   "source": [
    "def metric_charts(active_student):\n",
    "    group_A = active_student.query('grp == \"A\"')\n",
    "    group_B = active_student.query('grp == \"B\"')\n",
    "    \n",
    "    group_a_pay = active_student.query('rev != 0 and grp == \"A\"')\n",
    "    group_b_pay = active_student.query('rev != 0 and grp == \"B\"')\n",
    "    \n",
    "    cr_grp_A = ((group_a_pay.rev.count() / group_A.id.count()).round(3))*100\n",
    "    cr_grp_B = ((group_b_pay.rev.count() / group_B.id.count()).round(3))*100\n",
    "    \n",
    "    arpau_a = (group_A.rev.sum() / group_A.id.count()).round(2)\n",
    "    arpau_b = (group_B.rev.sum() / group_B.id.count()).round(2)\n",
    "    \n",
    "    df_metric = pd.DataFrame({'Metric':['arpau_a', 'arpau_b', 'cr_grp_A', 'cr_grp_B'], 'Value':[arpau_a, arpau_b, cr_grp_A, cr_grp_B]})\n",
    "    g = sns.barplot(data=df_metric, x='Metric', y='Value', ci=False, palette='viridis_r')\n",
    "    return g"
   ]
  },
  {
   "cell_type": "code",
   "execution_count": 23,
   "metadata": {},
   "outputs": [
    {
     "name": "stdout",
     "output_type": "stream",
     "text": [
      "\n",
      "    ARPAU в группе A = 47.35\n",
      "    ARPAU в группе B = 58.06\n",
      "    CR в группе A = 5.1\n",
      "    CR в группе B = 4.6\n",
      "    \n"
     ]
    },
    {
     "data": {
      "text/plain": [
       "<matplotlib.axes._subplots.AxesSubplot at 0x7fd557bd26d8>"
      ]
     },
     "execution_count": 23,
     "metadata": {},
     "output_type": "execute_result"
    },
    {
     "data": {
      "image/png": "[encoded data removed]",
      "text/plain": [
       "<Figure size 640x480 with 1 Axes>"
      ]
     },
     "metadata": {},
     "output_type": "display_data"
    }
   ],
   "source": [
    "cr_and_arpau(active_student)\n",
    "metric_charts(active_student)"
   ]
  }
 ],
 "metadata": {
  "kernelspec": {
   "display_name": "Python 3 (ipykernel)",
   "language": "python",
   "name": "python3"
  },
  "language_info": {
   "codemirror_mode": {
    "name": "ipython",
    "version": 3
   },
   "file_extension": ".py",
   "mimetype": "text/x-python",
   "name": "python",
   "nbconvert_exporter": "python",
   "pygments_lexer": "ipython3",
   "version": "3.7.3"
  }
 },
 "nbformat": 4,
 "nbformat_minor": 4
}
